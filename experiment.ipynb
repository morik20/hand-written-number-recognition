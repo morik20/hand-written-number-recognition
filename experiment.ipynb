{
  "nbformat": 4,
  "nbformat_minor": 0,
  "metadata": {
    "colab": {
      "name": "手書き数字画像認識.ipynb",
      "provenance": []
    },
    "kernelspec": {
      "name": "python3",
      "display_name": "Python 3"
    },
    "accelerator": "GPU"
  },
  "cells": [
    {
      "cell_type": "code",
      "metadata": {
        "id": "OyGggf2CmteX",
        "colab_type": "code",
        "colab": {
          "base_uri": "https://localhost:8080/",
          "height": 394
        },
        "outputId": "c021776f-d26e-4032-9770-5cc641766510"
      },
      "source": [
        "import torch.nn as nn\n",
        "import torch.nn.functional as F\n",
        "from torchsummary import summary\n",
        "\n",
        "class CNNModel(nn.Module):\n",
        "  def __init__(self):\n",
        "    super(CNNModel, self).__init__()\n",
        "    self.conv1 = nn.Conv2d(1, 32, kernel_size=(3, 3), stride=(1, 1))\n",
        "    self.bn1 = nn.BatchNorm2d(32)\n",
        "    self.conv2 = nn.Conv2d(32, 64, kernel_size=(3, 3), stride=(1, 1))\n",
        "    self.bn2 = nn.BatchNorm2d(64)\n",
        "    self.pool = nn.MaxPool2d(kernel_size=2, stride=2)\n",
        "    self.dense = nn.Linear(1600, 10)\n",
        "\n",
        "  def forward(self, x):\n",
        "    x = F.relu(self.bn1(self.conv1(x)))\n",
        "    x = self.pool(x)\n",
        "    x = F.relu(self.bn2(self.conv2(x)))\n",
        "    x = self.pool(x)\n",
        "    x = x.view(x.size(0), -1)\n",
        "    x = self.dense(x)\n",
        "    return x\n",
        "\n",
        "  def initialize_weights(self):\n",
        "    for m in self.modules():\n",
        "      if isinstance(m, nn.Conv2d):\n",
        "        nn.init.kaiming_normal_(m.weight, mode='fan_out',\n",
        "                                nonlinearity='relu')\n",
        "        if m.bias is not None:\n",
        "          nn.init.constant_(m.bias, 0)\n",
        "      elif isinstance(m, nn.BatchNorm2d):\n",
        "        nn.init.constant_(m.weight, 1)\n",
        "        nn.init.constant_(m.bias, 0)\n",
        "      elif isinstance(m, nn.Linear):\n",
        "        nn.init.normal_(m.weight, 0, 0.01)\n",
        "        nn.init.constant_(m.bias, 0)\n",
        "\n",
        "summary(CNNModel().cuda(), input_size=(1, 28, 28))"
      ],
      "execution_count": 57,
      "outputs": [
        {
          "output_type": "stream",
          "text": [
            "----------------------------------------------------------------\n",
            "        Layer (type)               Output Shape         Param #\n",
            "================================================================\n",
            "            Conv2d-1           [-1, 32, 26, 26]             320\n",
            "       BatchNorm2d-2           [-1, 32, 26, 26]              64\n",
            "         MaxPool2d-3           [-1, 32, 13, 13]               0\n",
            "            Conv2d-4           [-1, 64, 11, 11]          18,496\n",
            "       BatchNorm2d-5           [-1, 64, 11, 11]             128\n",
            "         MaxPool2d-6             [-1, 64, 5, 5]               0\n",
            "            Linear-7                   [-1, 10]          16,010\n",
            "================================================================\n",
            "Total params: 35,018\n",
            "Trainable params: 35,018\n",
            "Non-trainable params: 0\n",
            "----------------------------------------------------------------\n",
            "Input size (MB): 0.00\n",
            "Forward/backward pass size (MB): 0.50\n",
            "Params size (MB): 0.13\n",
            "Estimated Total Size (MB): 0.64\n",
            "----------------------------------------------------------------\n"
          ],
          "name": "stdout"
        }
      ]
    },
    {
      "cell_type": "code",
      "metadata": {
        "id": "EuUTqBSlprfE",
        "colab_type": "code",
        "colab": {}
      },
      "source": [
        "import torch\n",
        "from keras.datasets import mnist\n",
        "from sklearn.model_selection import train_test_split\n",
        "\n",
        "BATCH_SIZE = 128\n",
        "\n",
        "(X_train_val, y_train_val), (X_test, y_test) = mnist.load_data()\n",
        "X_train, X_val, y_train, y_val = \\\n",
        "  train_test_split(X_train_val, y_train_val, test_size=0.2)\n",
        "\n",
        "X_train = X_train.reshape(-1, 28, 28).astype('float32')\n",
        "X_val = X_val.reshape(-1, 28, 28).astype('float32')\n",
        "X_test = X_test.reshape(-1, 28, 28).astype('float32')\n",
        "\n",
        "X_train /= 255\n",
        "X_val /= 255\n",
        "X_test /= 255\n",
        "\n",
        "X_train = torch.from_numpy(X_train).to(torch.float32)\n",
        "X_val = torch.from_numpy(X_val).to(torch.float32)\n",
        "X_test = torch.from_numpy(X_test).to(torch.float32)\n",
        "y_train = torch.from_numpy(y_train).long()\n",
        "y_val = torch.from_numpy(y_val).long()\n",
        "y_test = torch.from_numpy(y_test).long()\n",
        "\n",
        "train_dataset = torch.utils.data.TensorDataset(X_train, y_train)\n",
        "validate_dataset = torch.utils.data.TensorDataset(X_val, y_val)\n",
        "test_dataset = torch.utils.data.TensorDataset(X_test, y_test)\n",
        "\n",
        "train_loader = torch.utils.data.DataLoader(train_dataset,\n",
        "                                           batch_size=BATCH_SIZE,\n",
        "                                           shuffle=True)\n",
        "validate_loader = torch.utils.data.DataLoader(validate_dataset,\n",
        "                                              batch_size=BATCH_SIZE,\n",
        "                                              shuffle=False)\n",
        "test_loader = torch.utils.data.DataLoader(test_dataset,\n",
        "                                          batch_size=BATCH_SIZE,\n",
        "                                          shuffle=False)"
      ],
      "execution_count": 58,
      "outputs": []
    },
    {
      "cell_type": "code",
      "metadata": {
        "id": "62SItOJ4jMGF",
        "colab_type": "code",
        "colab": {
          "base_uri": "https://localhost:8080/",
          "height": 621
        },
        "outputId": "fadef494-2e4f-4fea-aa6b-d4079d7a3d68"
      },
      "source": [
        "import torch.optim as optim\n",
        "import torch.nn as nn\n",
        "\n",
        "LEARNING_RATE = 1e-3\n",
        "NUM_EPOCHS = 30\n",
        "\n",
        "torch.manual_seed(1234)\n",
        "torch.backends.cudnn.deterministic = True\n",
        "torch.backends.cudnn.benchmark = False\n",
        "\n",
        "device = 'cuda' if torch.cuda.is_available() else 'cpu'\n",
        "model = CNNModel().to(device)\n",
        "optimizer = optim.Adam(model.parameters(), lr=LEARNING_RATE)\n",
        "criterion = nn.CrossEntropyLoss()\n",
        "\n",
        "print(f'Train on {len(train_loader.dataset)} samples, validate on {len(validate_loader.dataset)} samples')\n",
        "\n",
        "for epoch in range(NUM_EPOCHS):\n",
        "  train_loss = 0\n",
        "  val_loss = 0\n",
        "  train_acc = 0\n",
        "  val_acc = 0\n",
        "\n",
        "  model.train()\n",
        "  for inputs, targets in train_loader:\n",
        "    inputs = inputs.view(-1, 1, 28, 28).to(device)\n",
        "    targets = targets.to(device)\n",
        "    optimizer.zero_grad()\n",
        "    outputs = model(inputs)\n",
        "    loss = criterion(outputs, targets)\n",
        "    loss.backward()\n",
        "    optimizer.step()\n",
        "    train_acc += (outputs.max(1)[1] == targets).sum().item()\n",
        "    train_loss += loss.item()\n",
        "  avg_train_acc = train_acc / len(train_loader.dataset)\n",
        "  avg_train_loss = train_loss / len(train_loader)\n",
        "  train_log = f'acc: {avg_train_acc:.4f} - loss: {avg_train_loss:.4f}'\n",
        "\n",
        "  model.eval()\n",
        "  with torch.no_grad():\n",
        "    for inputs, targets in validate_loader:\n",
        "      inputs = inputs.view(-1, 1, 28, 28).to(device)\n",
        "      targets = targets.to(device)\n",
        "      outputs = model(inputs)\n",
        "      loss = criterion(outputs, targets)\n",
        "      val_acc += (outputs.max(1)[1] == targets).sum().item()\n",
        "      val_loss += loss.item()\n",
        "  avg_val_acc = val_acc / len(validate_loader.dataset)\n",
        "  avg_val_loss = val_loss / len(validate_loader)\n",
        "  val_log = f'val_acc: {avg_val_acc:.4f} - val_loss: {avg_val_loss:.4f}'\n",
        "\n",
        "  print(f'Epoch {epoch+1}/{NUM_EPOCHS} {train_log} - {val_log}')\n",
        "\n",
        "test_acc = 0\n",
        "test_loss = 0\n",
        "\n",
        "model.eval()\n",
        "with torch.no_grad():\n",
        "  for inputs, targets in test_loader:\n",
        "    inputs = inputs.view(-1, 1, 28, 28).to(device)\n",
        "    targets = targets.to(device)\n",
        "    outputs = model(inputs)\n",
        "    test_acc += (outputs.max(1)[1] == targets).sum().item()\n",
        "  avg_test_acc = test_acc / len(test_loader.dataset)\n",
        "\n",
        "print(f'Test accuracy: {avg_test_acc}')"
      ],
      "execution_count": 62,
      "outputs": [
        {
          "output_type": "stream",
          "text": [
            "Train on 48000 samples, validate on 12000 samples\n",
            "Epoch 1/30 acc: 0.9532 - loss: 0.1652 - val_acc: 0.9786 - val_loss: 0.0717\n",
            "Epoch 2/30 acc: 0.9840 - loss: 0.0530 - val_acc: 0.9844 - val_loss: 0.0508\n",
            "Epoch 3/30 acc: 0.9877 - loss: 0.0408 - val_acc: 0.9828 - val_loss: 0.0533\n",
            "Epoch 4/30 acc: 0.9902 - loss: 0.0320 - val_acc: 0.9845 - val_loss: 0.0499\n",
            "Epoch 5/30 acc: 0.9916 - loss: 0.0263 - val_acc: 0.9867 - val_loss: 0.0432\n",
            "Epoch 6/30 acc: 0.9928 - loss: 0.0222 - val_acc: 0.9838 - val_loss: 0.0529\n",
            "Epoch 7/30 acc: 0.9940 - loss: 0.0187 - val_acc: 0.9798 - val_loss: 0.0654\n",
            "Epoch 8/30 acc: 0.9953 - loss: 0.0152 - val_acc: 0.9869 - val_loss: 0.0442\n",
            "Epoch 9/30 acc: 0.9963 - loss: 0.0121 - val_acc: 0.9876 - val_loss: 0.0415\n",
            "Epoch 10/30 acc: 0.9967 - loss: 0.0103 - val_acc: 0.9894 - val_loss: 0.0367\n",
            "Epoch 11/30 acc: 0.9972 - loss: 0.0096 - val_acc: 0.9857 - val_loss: 0.0515\n",
            "Epoch 12/30 acc: 0.9978 - loss: 0.0076 - val_acc: 0.9893 - val_loss: 0.0394\n",
            "Epoch 13/30 acc: 0.9983 - loss: 0.0063 - val_acc: 0.9846 - val_loss: 0.0582\n",
            "Epoch 14/30 acc: 0.9968 - loss: 0.0095 - val_acc: 0.9882 - val_loss: 0.0431\n",
            "Epoch 15/30 acc: 0.9976 - loss: 0.0071 - val_acc: 0.9891 - val_loss: 0.0413\n",
            "Epoch 16/30 acc: 0.9990 - loss: 0.0041 - val_acc: 0.9899 - val_loss: 0.0375\n",
            "Epoch 17/30 acc: 0.9995 - loss: 0.0022 - val_acc: 0.9904 - val_loss: 0.0373\n",
            "Epoch 18/30 acc: 0.9986 - loss: 0.0039 - val_acc: 0.9881 - val_loss: 0.0483\n",
            "Epoch 19/30 acc: 0.9971 - loss: 0.0089 - val_acc: 0.9872 - val_loss: 0.0474\n",
            "Epoch 20/30 acc: 0.9990 - loss: 0.0030 - val_acc: 0.9903 - val_loss: 0.0411\n",
            "Epoch 21/30 acc: 0.9985 - loss: 0.0045 - val_acc: 0.9895 - val_loss: 0.0456\n",
            "Epoch 22/30 acc: 0.9988 - loss: 0.0039 - val_acc: 0.9862 - val_loss: 0.0577\n",
            "Epoch 23/30 acc: 0.9992 - loss: 0.0027 - val_acc: 0.9898 - val_loss: 0.0450\n",
            "Epoch 24/30 acc: 0.9996 - loss: 0.0012 - val_acc: 0.9884 - val_loss: 0.0499\n",
            "Epoch 25/30 acc: 0.9989 - loss: 0.0034 - val_acc: 0.9872 - val_loss: 0.0542\n",
            "Epoch 26/30 acc: 0.9981 - loss: 0.0050 - val_acc: 0.9900 - val_loss: 0.0455\n",
            "Epoch 27/30 acc: 0.9992 - loss: 0.0027 - val_acc: 0.9901 - val_loss: 0.0458\n",
            "Epoch 28/30 acc: 0.9997 - loss: 0.0011 - val_acc: 0.9904 - val_loss: 0.0464\n",
            "Epoch 29/30 acc: 1.0000 - loss: 0.0002 - val_acc: 0.9913 - val_loss: 0.0427\n",
            "Epoch 30/30 acc: 1.0000 - loss: 0.0001 - val_acc: 0.9915 - val_loss: 0.0426\n",
            "Test accuracy: 0.9915\n"
          ],
          "name": "stdout"
        }
      ]
    },
    {
      "cell_type": "code",
      "metadata": {
        "id": "xdWfwqxG3bHu",
        "colab_type": "code",
        "colab": {
          "base_uri": "https://localhost:8080/",
          "height": 130
        },
        "outputId": "c0695f5f-5596-436f-a6c2-2c329bc2429d"
      },
      "source": [
        "!git clone https://github.com/morik20/hand-written-number-recognition.git"
      ],
      "execution_count": 67,
      "outputs": [
        {
          "output_type": "stream",
          "text": [
            "Cloning into 'hand-written-number-recognition'...\n",
            "remote: Enumerating objects: 19, done.\u001b[K\n",
            "remote: Counting objects: 100% (19/19), done.\u001b[K\n",
            "remote: Compressing objects: 100% (13/13), done.\u001b[K\n",
            "remote: Total 19 (delta 0), reused 0 (delta 0), pack-reused 0\u001b[K\n",
            "Unpacking objects: 100% (19/19), done.\n"
          ],
          "name": "stdout"
        }
      ]
    },
    {
      "cell_type": "code",
      "metadata": {
        "id": "UnnZrlpG4W5T",
        "colab_type": "code",
        "colab": {
          "base_uri": "https://localhost:8080/",
          "height": 551
        },
        "outputId": "499e3714-8a3d-40b4-bb79-92350fe00c53"
      },
      "source": [
        "from PIL import Image\n",
        "import numpy as np\n",
        "import matplotlib.pyplot as plt\n",
        "\n",
        "img_1 = Image.open('/content/hand-written-number-recognition/figs/1_1.png')\n",
        "img_2 = Image.open('/content/hand-written-number-recognition/figs/1_2.png')\n",
        "img_1, img_2 = img_1.convert('L'), img_2.convert('L')\n",
        "img_1, img_2 = img_1.resize((28, 28)), img_2.resize((28, 28))\n",
        "img_1, img_2 = np.array(img_1), np.array(img_2)\n",
        "\n",
        "plt.figure()\n",
        "plt.gray()\n",
        "plt.imshow(img_1)\n",
        "plt.figure()\n",
        "plt.gray()\n",
        "plt.imshow(img_2)\n",
        "\n",
        "device = 'cuda' if torch.cuda.is_available() else 'cpu'\n",
        "\n",
        "X_test = np.array(img_1)\n",
        "y_test = np.array([1])\n",
        "\n",
        "X_test = X_test.reshape(-1, 28, 28).astype('float32')\n",
        "X_test /= 255\n",
        "\n",
        "X_test = torch.from_numpy(X_test).to(torch.float32)\n",
        "y_test = torch.from_numpy(y_test).long()\n",
        "\n",
        "model.eval()\n",
        "with torch.no_grad():\n",
        "    inputs = X_test.view(1, 1, 28, 28).to(device)\n",
        "    targets = y_test.to(device)\n",
        "    # forward\n",
        "    outputs = model(inputs)\n",
        "\n",
        "print('True digit {:.0f} ({:.10f}), Prediction {:.0f} ({:.10f})'.format(\n",
        "    targets.item(),\n",
        "    torch.softmax(outputs, dim=1)[:, targets].item(),\n",
        "    outputs.max(1)[1].item(),\n",
        "    torch.softmax(outputs, dim=1).max(1)[0].item(),\n",
        "))\n",
        "\n",
        "X_test = np.array(img_2)\n",
        "y_test = np.array([1])\n",
        "\n",
        "X_test = X_test.reshape(-1, 28, 28).astype('float32')\n",
        "X_test /= 255\n",
        "\n",
        "X_test = torch.from_numpy(X_test).to(torch.float32)\n",
        "y_test = torch.from_numpy(y_test).long()\n",
        "\n",
        "model.eval()\n",
        "with torch.no_grad():\n",
        "    inputs = X_test.view(1, 1, 28, 28).to(device)\n",
        "    targets = y_test.to(device)\n",
        "    # forward\n",
        "    outputs = model(inputs)\n",
        "\n",
        "print('True digit {:.0f} ({:.10f}), Prediction {:.0f} ({:.10f})'.format(\n",
        "    targets.item(),\n",
        "    torch.softmax(outputs, dim=1)[:, targets].item(),\n",
        "    outputs.max(1)[1].item(),\n",
        "    torch.softmax(outputs, dim=1).max(1)[0].item(),\n",
        "))"
      ],
      "execution_count": 91,
      "outputs": [
        {
          "output_type": "stream",
          "text": [
            "True digit 1 (0.9998469353), Prediction 1 (0.9998469353)\n",
            "True digit 1 (0.9999988079), Prediction 1 (0.9999988079)\n"
          ],
          "name": "stdout"
        },
        {
          "output_type": "display_data",
          "data": {
            "image/png": "[encoded data removed]",
            "text/plain": [
              "<Figure size 432x288 with 1 Axes>"
            ]
          },
          "metadata": {
            "tags": [],
            "needs_background": "light"
          }
        },
        {
          "output_type": "display_data",
          "data": {
            "image/png": "[encoded data removed]",
            "text/plain": [
              "<Figure size 432x288 with 1 Axes>"
            ]
          },
          "metadata": {
            "tags": [],
            "needs_background": "light"
          }
        }
      ]
    },
    {
      "cell_type": "code",
      "metadata": {
        "id": "6iBZrrUF7N5N",
        "colab_type": "code",
        "colab": {
          "base_uri": "https://localhost:8080/",
          "height": 551
        },
        "outputId": "571139b1-a4aa-46d1-ed2d-464e57b78070"
      },
      "source": [
        "from PIL import Image\n",
        "import numpy as np\n",
        "import matplotlib.pyplot as plt\n",
        "\n",
        "img_1 = Image.open('/content/hand-written-number-recognition/figs/4_1.png')\n",
        "img_2 = Image.open('/content/hand-written-number-recognition/figs/4_2.png')\n",
        "img_1, img_2 = img_1.convert('L'), img_2.convert('L')\n",
        "img_1, img_2 = img_1.resize((28, 28)), img_2.resize((28, 28))\n",
        "img_1, img_2 = np.array(img_1), np.array(img_2)\n",
        "\n",
        "plt.figure()\n",
        "plt.gray()\n",
        "plt.imshow(img_1)\n",
        "plt.figure()\n",
        "plt.gray()\n",
        "plt.imshow(img_2)\n",
        "\n",
        "device = 'cuda' if torch.cuda.is_available() else 'cpu'\n",
        "\n",
        "X_test = np.array(img_1)\n",
        "y_test = np.array([4])\n",
        "\n",
        "X_test = X_test.reshape(-1, 28, 28).astype('float32')\n",
        "X_test /= 255\n",
        "\n",
        "X_test = torch.from_numpy(X_test).to(torch.float32)\n",
        "y_test = torch.from_numpy(y_test).long()\n",
        "\n",
        "model.eval()\n",
        "with torch.no_grad():\n",
        "    inputs = X_test.view(1, 1, 28, 28).to(device)\n",
        "    targets = y_test.to(device)\n",
        "    # forward\n",
        "    outputs = model(inputs)\n",
        "\n",
        "print('True digit {:.0f} ({:.10f}), Prediction {:.0f} ({:.10f})'.format(\n",
        "    targets.item(),\n",
        "    torch.softmax(outputs, dim=1)[:, targets].item(),\n",
        "    outputs.max(1)[1].item(),\n",
        "    torch.softmax(outputs, dim=1).max(1)[0].item(),\n",
        "))\n",
        "\n",
        "X_test = np.array(img_2)\n",
        "y_test = np.array([4])\n",
        "\n",
        "X_test = X_test.reshape(-1, 28, 28).astype('float32')\n",
        "X_test /= 255\n",
        "\n",
        "X_test = torch.from_numpy(X_test).to(torch.float32)\n",
        "y_test = torch.from_numpy(y_test).long()\n",
        "\n",
        "model.eval()\n",
        "with torch.no_grad():\n",
        "    inputs = X_test.view(1, 1, 28, 28).to(device)\n",
        "    targets = y_test.to(device)\n",
        "    # forward\n",
        "    outputs = model(inputs)\n",
        "\n",
        "print('True digit {:.0f} ({:.10f}), Prediction {:.0f} ({:.10f})'.format(\n",
        "    targets.item(),\n",
        "    torch.softmax(outputs, dim=1)[:, targets].item(),\n",
        "    outputs.max(1)[1].item(),\n",
        "    torch.softmax(outputs, dim=1).max(1)[0].item(),\n",
        "))"
      ],
      "execution_count": 93,
      "outputs": [
        {
          "output_type": "stream",
          "text": [
            "True digit 4 (0.8909674287), Prediction 4 (0.8909674287)\n",
            "True digit 4 (0.9999899864), Prediction 4 (0.9999899864)\n"
          ],
          "name": "stdout"
        },
        {
          "output_type": "display_data",
          "data": {
            "image/png": "[encoded data removed]",
            "text/plain": [
              "<Figure size 432x288 with 1 Axes>"
            ]
          },
          "metadata": {
            "tags": [],
            "needs_background": "light"
          }
        },
        {
          "output_type": "display_data",
          "data": {
            "image/png": "[encoded data removed]",
            "text/plain": [
              "<Figure size 432x288 with 1 Axes>"
            ]
          },
          "metadata": {
            "tags": [],
            "needs_background": "light"
          }
        }
      ]
    },
    {
      "cell_type": "code",
      "metadata": {
        "id": "zssOaMRo4tZb",
        "colab_type": "code",
        "colab": {
          "base_uri": "https://localhost:8080/",
          "height": 551
        },
        "outputId": "07b330ad-7d1d-4d2a-fb68-44acf3c15053"
      },
      "source": [
        "from PIL import Image\n",
        "import numpy as np\n",
        "import matplotlib.pyplot as plt\n",
        "\n",
        "img_1 = Image.open('/content/hand-written-number-recognition/figs/7_1.png')\n",
        "img_2 = Image.open('/content/hand-written-number-recognition/figs/7_2.png')\n",
        "img_1, img_2 = img_1.convert('L'), img_2.convert('L')\n",
        "img_1, img_2 = img_1.resize((28, 28)), img_2.resize((28, 28))\n",
        "img_1, img_2 = np.array(img_1), np.array(img_2)\n",
        "\n",
        "plt.figure()\n",
        "plt.gray()\n",
        "plt.imshow(img_1)\n",
        "plt.figure()\n",
        "plt.gray()\n",
        "plt.imshow(img_2)\n",
        "\n",
        "device = 'cuda' if torch.cuda.is_available() else 'cpu'\n",
        "\n",
        "X_test = np.array(img_1)\n",
        "y_test = np.array([7])\n",
        "\n",
        "X_test = X_test.reshape(-1, 28, 28).astype('float32')\n",
        "X_test /= 255\n",
        "\n",
        "X_test = torch.from_numpy(X_test).to(torch.float32)\n",
        "y_test = torch.from_numpy(y_test).long()\n",
        "\n",
        "model.eval()\n",
        "with torch.no_grad():\n",
        "    inputs = X_test.view(1, 1, 28, 28).to(device)\n",
        "    targets = y_test.to(device)\n",
        "    # forward\n",
        "    outputs = model(inputs)\n",
        "\n",
        "print('True digit {:.0f} ({:.10f}), Prediction {:.0f} ({:.10f})'.format(\n",
        "    targets.item(),\n",
        "    torch.softmax(outputs, dim=1)[:, targets].item(),\n",
        "    outputs.max(1)[1].item(),\n",
        "    torch.softmax(outputs, dim=1).max(1)[0].item(),\n",
        "))\n",
        "\n",
        "X_test = np.array(img_2)\n",
        "y_test = np.array([7])\n",
        "\n",
        "X_test = X_test.reshape(-1, 28, 28).astype('float32')\n",
        "X_test /= 255\n",
        "\n",
        "X_test = torch.from_numpy(X_test).to(torch.float32)\n",
        "y_test = torch.from_numpy(y_test).long()\n",
        "\n",
        "model.eval()\n",
        "with torch.no_grad():\n",
        "    inputs = X_test.view(1, 1, 28, 28).to(device)\n",
        "    targets = y_test.to(device)\n",
        "    # forward\n",
        "    outputs = model(inputs)\n",
        "\n",
        "print('True digit {:.0f} ({:.10f}), Prediction {:.0f} ({:.10f})'.format(\n",
        "    targets.item(),\n",
        "    torch.softmax(outputs, dim=1)[:, targets].item(),\n",
        "    outputs.max(1)[1].item(),\n",
        "    torch.softmax(outputs, dim=1).max(1)[0].item(),\n",
        "))"
      ],
      "execution_count": 85,
      "outputs": [
        {
          "output_type": "stream",
          "text": [
            "True digit 7 (0.9966685176), Prediction 7 (0.9966685176)\n",
            "True digit 7 (0.9998902082), Prediction 7 (0.9998902082)\n"
          ],
          "name": "stdout"
        },
        {
          "output_type": "display_data",
          "data": {
            "image/png": "[encoded data removed]",
            "text/plain": [
              "<Figure size 432x288 with 1 Axes>"
            ]
          },
          "metadata": {
            "tags": [],
            "needs_background": "light"
          }
        },
        {
          "output_type": "display_data",
          "data": {
            "image/png": "[encoded data removed]",
            "text/plain": [
              "<Figure size 432x288 with 1 Axes>"
            ]
          },
          "metadata": {
            "tags": [],
            "needs_background": "light"
          }
        }
      ]
    }
  ]
}